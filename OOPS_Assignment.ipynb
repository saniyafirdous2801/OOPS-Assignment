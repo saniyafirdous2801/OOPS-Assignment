{
  "nbformat": 4,
  "nbformat_minor": 0,
  "metadata": {
    "colab": {
      "provenance": []
    },
    "kernelspec": {
      "name": "python3",
      "display_name": "Python 3"
    },
    "language_info": {
      "name": "python"
    }
  },
  "cells": [
    {
      "cell_type": "markdown",
      "source": [
        "#Theory\n",
        "\n",
        "1.  Object orriented programming(OOPS) is a programming paradigm that resolves around the concept of objects and classes. It organizes software design around data, pr objects,rather than functions and logic.\n",
        "\n",
        "2.  A class in OOP is a blueprint or a template that defines the properties and behaviour of an object. It is essentially a design pattern or a template that defines the characteristics of an object, including its data and its behaviour.\n",
        "\n",
        "3. An object in OOP is an instance of a class, representing a real-world entity or concept. It has its own set of attributes and methods.\n",
        "\n",
        "4.  Abstraction is the practice of showing only the necessary information to the outside world while hiding the internal details. Encapulation is the conceot of bundling data and its associated methods that operate on that data within a single unit, making it harder for other parts of the program to acess or modify the data directly.\n",
        "\n",
        "5.  Dunder methods, also known as special methods or magical methods, are methods in python that are surrounded by double underscores(_ _)on either side of their name.\n",
        "\n",
        "6.  Inheritance is a mechanism in OOP where a new class inherits the properties and behaviour of an existing class.\n",
        "\n",
        "7.  Polymorphism is the ability of an object to take on multiple forms, depending on the context in which it is used. This can be achieved through method overriding or method overloading.\n",
        "\n",
        "8.  Encaplsulation in python is achieved by using classes and objects. By defining attributes and methods within a class, you can control access to the data and ensure that it is not modifies accidentally or maliciously.\n",
        "\n",
        "9. A constructor in python is special method that is called when an object is created from a class. It is used to initialize the attributes of the class and is defined using the _ _int_ _ method.\n",
        "\n",
        "10.  Class methods are methods that are bound to the class rather that the instance of the class. They are used to define alternative constructors or to perform operations that are related to the class as a whole.\n",
        "\n",
        "\n",
        "11. Python does not support method overloading in the classical sense. However, you can achive similar behaviour using optional arguements or by usnig the *args syntax.\n",
        "\n",
        "12.  Method overriding is a feature of OOP where a subclass provides a different implementation of a method that is already defined in its superclass.\n",
        "\n",
        "13.  A property decorate in python is a way to implement getter, setter, and deleter functionality for an attribute. It allows you to control access to the attribute and perform additional logic when the attribute is accessed or modified.\n",
        "\n",
        "14.  Polymorphism is important in OOP because it allows objects of different classes to be treated as objects of a common superclass, making it easier to write generic code that can work with a variety of data types.\n",
        "\n",
        "15.  An abstract class in python is a class that cannot be instantiated on its own and is designed to be subclassed by other classes.\n",
        "\n",
        "16.  The advantages of OOP include modularity, reusability, flexibility, and easier maintenance. OOP also promotes code organization and reduce complexity.\n",
        "\n",
        "17.  A class variable is a variable that is shared by all instances of a class, while an instance variable is variable that is unique to each instance of a class.\n",
        "\n",
        "18.  Multiple inheritance in python is a feature that allows a class to inherit from multiple base class.\n",
        "\n",
        "19.  The _ _str_ _ method returns a human-readable string representation of an object, while the _ _repr_ _ method returns a string that is a valid python expression, used for debugging and logging purposes."
      ],
      "metadata": {
        "id": "xE6CUTBJjFCf"
      }
    },
    {
      "cell_type": "markdown",
      "source": [
        "#Practical Answers."
      ],
      "metadata": {
        "id": "v38gh-77u4E2"
      }
    },
    {
      "cell_type": "code",
      "source": [
        "#1.\n",
        "class Animal:\n",
        "  def speak(self):\n",
        "    print(\"This ia a generic animal sound.\")\n",
        "\n",
        "class Dog(Animal):\n",
        "  def speak(self):\n",
        "    print(\"bark\")\n",
        "\n",
        "dog = Dog()\n",
        "dog.speak()"
      ],
      "metadata": {
        "colab": {
          "base_uri": "https://localhost:8080/"
        },
        "id": "vmkve0unu-pF",
        "outputId": "655e8ce3-6e6f-4eb6-9938-af2dff1404ac"
      },
      "execution_count": 3,
      "outputs": [
        {
          "output_type": "stream",
          "name": "stdout",
          "text": [
            "bark\n"
          ]
        }
      ]
    },
    {
      "cell_type": "code",
      "source": [
        "#2.\n",
        "from abc import ABC, abstractmethod\n",
        "\n",
        "class Shape(ABC):\n",
        "  @abstractmethod\n",
        "  def area(self):\n",
        "    pass\n",
        "\n",
        "class Circle(Shape):\n",
        "  def __init__(self, radius):\n",
        "    self.radius = radius\n",
        "\n",
        "  def area(self):\n",
        "    return 3.14 * (self.radius ** 2)\n",
        "\n",
        "class Rectangle(Shape):\n",
        "  def __init__(self,length,breadth):\n",
        "    self.length=length\n",
        "    self.breadth=breadth\n",
        "\n",
        "  def area(self):\n",
        "    return self.length * self.breadth\n",
        "\n",
        "c=Circle(5)\n",
        "r=Rectangle(4,6)\n",
        "print(\"circle Area:\",c.area())\n",
        "print(\"Rectangle Area:\",r.area())"
      ],
      "metadata": {
        "colab": {
          "base_uri": "https://localhost:8080/"
        },
        "id": "ducFmu26xw8g",
        "outputId": "0ef0963d-6abf-4883-eeed-46cebf0f3449"
      },
      "execution_count": 5,
      "outputs": [
        {
          "output_type": "stream",
          "name": "stdout",
          "text": [
            "circle Area: 78.5\n",
            "Rectangle Area: 24\n"
          ]
        }
      ]
    },
    {
      "cell_type": "code",
      "source": [
        "#3.\n",
        "class Vehicle:\n",
        "  def __init__(self,type):\n",
        "    self.type=type\n",
        "\n",
        "class Car(Vehicle):\n",
        "  def __init__(self,type,brand):\n",
        "    super().__init__(type)\n",
        "    self.brand=brand\n",
        "\n",
        "class ElectricCar(Car):\n",
        "  def __init__(self,type,brand,battery):\n",
        "    super().__init__(type,brand)\n",
        "    self.battery=battery\n",
        "\n",
        "tesla=ElectricCar(\"Four Wheeler\",\"Tesla\",\"100 KWh\")\n",
        "print(tesla.type,tesla.brand,tesla.battery)\n",
        ""
      ],
      "metadata": {
        "colab": {
          "base_uri": "https://localhost:8080/"
        },
        "id": "JkLlmKNBzjVm",
        "outputId": "07758983-3d7f-46a8-f4d9-809275df4bd0"
      },
      "execution_count": 6,
      "outputs": [
        {
          "output_type": "stream",
          "name": "stdout",
          "text": [
            "Four Wheeler Tesla 100 KWh\n"
          ]
        }
      ]
    },
    {
      "cell_type": "code",
      "source": [
        "#4.\n",
        "class Bird:\n",
        "  def fly(self):\n",
        "    print(\"Bird is flying\")\n",
        "\n",
        "class Sparrow(Bird):\n",
        "  def fly(self):\n",
        "    print(\"Sparrow flies high\")\n",
        "\n",
        "class Penguin(Bird):\n",
        "  def fly(self):\n",
        "    print(\"Penguin cannot fly\")\n",
        "\n",
        "birds=[Sparrow(),Penguin()]\n",
        "for b in birds:\n",
        "  b.fly()"
      ],
      "metadata": {
        "colab": {
          "base_uri": "https://localhost:8080/"
        },
        "id": "1hMeEKW91ACm",
        "outputId": "58c00f6e-d300-4253-cc05-cdb8c7948cf9"
      },
      "execution_count": 7,
      "outputs": [
        {
          "output_type": "stream",
          "name": "stdout",
          "text": [
            "Sparrow flies high\n",
            "Penguin cannot fly\n"
          ]
        }
      ]
    },
    {
      "cell_type": "code",
      "source": [
        "#5.\n",
        "class BankAccount:\n",
        "  def __init__(self,balance=0):\n",
        "    self.balance=balance\n",
        "\n",
        "  def deposit(self,amount):\n",
        "    self.balance+=amount\n",
        "\n",
        "  def withdraw(self,amount):\n",
        "    if amount<=self.balance:\n",
        "      self.balance-=amount\n",
        "    else:\n",
        "      print(\"Insufficient balance\")\n",
        "\n",
        "  def check_balance(self):\n",
        "    return self.balance\n",
        "\n",
        "acc=BankAccount(1000)\n",
        "acc.deposit(500)\n",
        "acc.withdraw(300)\n",
        "print(\"Balance:\",acc.check_balance())"
      ],
      "metadata": {
        "colab": {
          "base_uri": "https://localhost:8080/"
        },
        "id": "iDqqwCQT1vH4",
        "outputId": "6b66feef-966e-4246-88f5-e5cf251a6b79"
      },
      "execution_count": 9,
      "outputs": [
        {
          "output_type": "stream",
          "name": "stdout",
          "text": [
            "Balance: 1200\n"
          ]
        }
      ]
    },
    {
      "cell_type": "code",
      "source": [
        "#6.\n",
        "class Instrument:\n",
        "  def play(self):\n",
        "    print(\"Playing an instrument\")\n",
        "\n",
        "class Guitar(Instrument):\n",
        "  def play(self):\n",
        "    print(\"Playing a guitar\")\n",
        "\n",
        "class Piano(Instrument):\n",
        "  def play(self):\n",
        "    print(\"Playing a piano\")\n",
        "\n",
        "instruments=[Guitar(),Piano()]\n",
        "for i in instruments:\n",
        "  i.play()"
      ],
      "metadata": {
        "colab": {
          "base_uri": "https://localhost:8080/"
        },
        "id": "dZ0HSbdk2nBl",
        "outputId": "32fc44bc-d8de-4b32-9acd-477292f57eba"
      },
      "execution_count": 10,
      "outputs": [
        {
          "output_type": "stream",
          "name": "stdout",
          "text": [
            "Playing a guitar\n",
            "Playing a piano\n"
          ]
        }
      ]
    },
    {
      "cell_type": "code",
      "source": [
        "#7.\n",
        "class MathOpereations:\n",
        "  @classmethod\n",
        "  def add_numbers(cls,a,b):\n",
        "    return a+b\n",
        "\n",
        "  @staticmethod\n",
        "  def subtract_numbers(a,b):\n",
        "    return a-b\n",
        "\n",
        "print(MathOpereations.add_numbers(10,20))\n",
        "print(MathOpereations.subtract_numbers(50,30))"
      ],
      "metadata": {
        "colab": {
          "base_uri": "https://localhost:8080/"
        },
        "id": "ZYk7WD0z3BaP",
        "outputId": "0a3f9284-9000-4a27-bbb3-04a4ef032dfe"
      },
      "execution_count": 15,
      "outputs": [
        {
          "output_type": "stream",
          "name": "stdout",
          "text": [
            "30\n",
            "20\n"
          ]
        }
      ]
    },
    {
      "cell_type": "code",
      "source": [
        "#8.\n",
        "class Person:\n",
        "  count=0\n",
        "\n",
        "  def __init__(self,name):\n",
        "    self.name=name\n",
        "    Person.count+=1\n",
        "\n",
        "  @classmethod\n",
        "  def total_persons(cls):\n",
        "    return cls.count\n",
        "\n",
        "p1=Person(\"Alice\")\n",
        "p2=Person(\"Bob\")\n",
        "print(\"Total persons:\",Person.total_persons())"
      ],
      "metadata": {
        "colab": {
          "base_uri": "https://localhost:8080/"
        },
        "id": "EITj43H65YVz",
        "outputId": "af900558-58a5-4501-b386-9bdc273e21c8"
      },
      "execution_count": 18,
      "outputs": [
        {
          "output_type": "stream",
          "name": "stdout",
          "text": [
            "Total persons: 2\n"
          ]
        }
      ]
    },
    {
      "cell_type": "code",
      "source": [
        "#9.\n",
        "class Fraction:\n",
        "  def __init__(self,numerator,denominator):\n",
        "    self.numerator=numerator\n",
        "    self.denominator=denominator\n",
        "\n",
        "  def __str__(self):\n",
        "    return f\"{self.numerator}/{self.denominator}\"\n",
        "\n",
        "f= Fraction(3,4)\n",
        "print(f)"
      ],
      "metadata": {
        "colab": {
          "base_uri": "https://localhost:8080/"
        },
        "id": "ayHKcyag50br",
        "outputId": "009f4b6d-202c-4ca6-9b48-165dbbf9986a"
      },
      "execution_count": 19,
      "outputs": [
        {
          "output_type": "stream",
          "name": "stdout",
          "text": [
            "3/4\n"
          ]
        }
      ]
    },
    {
      "cell_type": "code",
      "source": [
        "#10.\n",
        "class Vector:\n",
        "  def __init__(self,x,y):\n",
        "    self.x=x\n",
        "    self.y=y\n",
        "\n",
        "  def __add__(self,other):\n",
        "    return Vector(self.x+other.x,self.y+other.y)\n",
        "\n",
        "  def __str__(self):\n",
        "    return f\"Vector({self.x},{self.y})\"\n",
        "\n",
        "v1=Vector(2,3)\n",
        "v2=Vector(4,5)\n",
        "v3=v1+v2\n",
        "print(v3)"
      ],
      "metadata": {
        "colab": {
          "base_uri": "https://localhost:8080/"
        },
        "id": "7dpuczA56LVM",
        "outputId": "4268d6ee-d82a-48e6-d1d4-f9eff2d96a03"
      },
      "execution_count": 20,
      "outputs": [
        {
          "output_type": "stream",
          "name": "stdout",
          "text": [
            "Vector(6,8)\n"
          ]
        }
      ]
    },
    {
      "cell_type": "code",
      "source": [
        "#11.\n",
        "class Person:\n",
        "  def __init__(self,name,age):\n",
        "    self.name=name\n",
        "    self.age=age\n",
        "\n",
        "  def greet(self):\n",
        "    print(f\"Hello, my name is {self.name} and I am {self.age} years old.\")\n",
        "\n",
        "p=Person(\"Alice\",25)\n",
        "p.greet()"
      ],
      "metadata": {
        "colab": {
          "base_uri": "https://localhost:8080/"
        },
        "id": "DQeG-r1d6hV_",
        "outputId": "fea7d62e-2224-4d22-e64a-7434d64cd739"
      },
      "execution_count": 21,
      "outputs": [
        {
          "output_type": "stream",
          "name": "stdout",
          "text": [
            "Hello, my name is Alice and I am 25 years old.\n"
          ]
        }
      ]
    },
    {
      "cell_type": "code",
      "source": [
        "#12.\n",
        "class Student:\n",
        "  def __init__(self,name,grades):\n",
        "    self.name=name\n",
        "    self.grades=grades\n",
        "\n",
        "  def average_grade(self):\n",
        "    return sum(self.grades)/len(self.grades)\n",
        "\n",
        "s=Student(\"Alice\",[85,90,78])\n",
        "print(\"Average Grade:\",s.average_grade())"
      ],
      "metadata": {
        "colab": {
          "base_uri": "https://localhost:8080/"
        },
        "id": "NptMwdKm612u",
        "outputId": "840c6461-3657-4edb-8cfc-50a3f24de5a7"
      },
      "execution_count": 24,
      "outputs": [
        {
          "output_type": "stream",
          "name": "stdout",
          "text": [
            "Average Grade: 84.33333333333333\n"
          ]
        }
      ]
    },
    {
      "cell_type": "code",
      "source": [
        "#13.\n",
        "class Rectangle:\n",
        "  def __init__(self):\n",
        "    self.length=0\n",
        "    self.width=0\n",
        "\n",
        "  def set_dimensions(self,length,width):\n",
        "    self.length=length\n",
        "    self.width=width\n",
        "\n",
        "  def area(self):\n",
        "    return self.length * self.width\n",
        "\n",
        "#example\n",
        "rect=Rectangle()\n",
        "rect.set_dimensions(5,3)\n",
        "print(\"Area of Rectangle:\",rect.area())"
      ],
      "metadata": {
        "colab": {
          "base_uri": "https://localhost:8080/"
        },
        "id": "-qJ9odgG7tIT",
        "outputId": "ed038f4e-16b7-4c25-8422-46f1b29dd66f"
      },
      "execution_count": 26,
      "outputs": [
        {
          "output_type": "stream",
          "name": "stdout",
          "text": [
            "Area of Rectangle: 15\n"
          ]
        }
      ]
    },
    {
      "cell_type": "code",
      "source": [
        "#14.\n",
        "class Employee:\n",
        "  def __init__(self,hours,rate):\n",
        "    self.hours=hours\n",
        "    self.rate=rate\n",
        "\n",
        "  def calculate_salary(self):\n",
        "    return self.hours * self.rate\n",
        "\n",
        "class Manager(Employee):\n",
        "  def __init__(self,hours,rate,bonus):\n",
        "    super().__init__(hours,rate)\n",
        "    self.bonus=bonus\n",
        "\n",
        "  def calculate_salary(self):\n",
        "    return super().calculate_salary() + self.bonus\n",
        "\n",
        "#example\n",
        "emp=Employee(40,200)\n",
        "print(\"Employee Salary:\",emp.calculate_salary())\n",
        "\n",
        "mgr=Manager(40,200,5000)\n",
        "print(\"Manager Salary:\",mgr.calculate_salary())"
      ],
      "metadata": {
        "colab": {
          "base_uri": "https://localhost:8080/"
        },
        "id": "o7W8Az_g8kQS",
        "outputId": "03127a51-b5d6-4284-b088-ecbbb3da9e51"
      },
      "execution_count": 27,
      "outputs": [
        {
          "output_type": "stream",
          "name": "stdout",
          "text": [
            "Employee Salary: 8000\n",
            "Manager Salary: 13000\n"
          ]
        }
      ]
    },
    {
      "cell_type": "code",
      "source": [
        "#15.\n",
        "class Product:\n",
        "  def __init__(self,name,price,quantity):\n",
        "    self.name=name\n",
        "    self.price=price\n",
        "    self.quantity=quantity\n",
        "\n",
        "  def total_price(self):\n",
        "    return self.price * self.quantity\n",
        "\n",
        "#example\n",
        "p=Product(\"Laptop\",50000,2)\n",
        "print(\"Total Price:\",p.total_price())"
      ],
      "metadata": {
        "colab": {
          "base_uri": "https://localhost:8080/"
        },
        "id": "l0L2bYQx9FFU",
        "outputId": "ffcbe8a1-009e-4727-ea58-f907305a0e0b"
      },
      "execution_count": 28,
      "outputs": [
        {
          "output_type": "stream",
          "name": "stdout",
          "text": [
            "Total Price: 100000\n"
          ]
        }
      ]
    },
    {
      "cell_type": "code",
      "source": [
        "#16.\n",
        "from abc import ABC, abstractmethod\n",
        "\n",
        "class Animal(ABC):\n",
        "  @abstractmethod\n",
        "  def sound(self):\n",
        "    pass\n",
        "\n",
        "class Cow(Animal):\n",
        "  def sound(self):\n",
        "    return\"Moo\"\n",
        "\n",
        "class Sheep(Animal):\n",
        "  def sound(self):\n",
        "    return\"Baa\"\n",
        "\n",
        "#example\n",
        "cow=Cow()\n",
        "sheep=Sheep()\n",
        "print(\"Cow Sound:\",cow.sound())\n",
        "print(\"Sheep Sound:\",sheep.sound())"
      ],
      "metadata": {
        "colab": {
          "base_uri": "https://localhost:8080/"
        },
        "id": "y671wfdz9ite",
        "outputId": "4452fc0c-ba19-4d53-9ef7-24827126638e"
      },
      "execution_count": 29,
      "outputs": [
        {
          "output_type": "stream",
          "name": "stdout",
          "text": [
            "Cow Sound: Moo\n",
            "Sheep Sound: Baa\n"
          ]
        }
      ]
    },
    {
      "cell_type": "code",
      "source": [
        "#17.\n",
        "class Book:\n",
        "  def __init__(self,title,author,year_published):\n",
        "    self.title=title\n",
        "    self.author=author\n",
        "    self.year_published=year_published\n",
        "\n",
        "  def get_book_info(self):\n",
        "    return f\"{self.title} by {self.author} ({self.year_published})\"\n",
        "\n",
        "#example\n",
        "book=Book(\"The Great Gatsby\",\"F. Scott Fitzgerald\",1925)\n",
        "print(book.get_book_info())"
      ],
      "metadata": {
        "colab": {
          "base_uri": "https://localhost:8080/"
        },
        "id": "d_6oFrLh_tS1",
        "outputId": "cf8eb021-1a8c-45fd-d208-515b9eba1eaa"
      },
      "execution_count": 30,
      "outputs": [
        {
          "output_type": "stream",
          "name": "stdout",
          "text": [
            "The Great Gatsby by F. Scott Fitzgerald (1925)\n"
          ]
        }
      ]
    },
    {
      "cell_type": "code",
      "source": [
        "#18.\n",
        "class House:\n",
        "  def __init__(self,address,price):\n",
        "    self.address=address\n",
        "    self.price=price\n",
        "\n",
        "class Mansion(House):\n",
        "  def __init__(self,address,price,number_of_rooms):\n",
        "    super().__init__(address,price)\n",
        "    self.number_of_rooms=number_of_rooms\n",
        "\n",
        "#example\n",
        "m=Mansion(\"123 Main st\", 10000000, 10)\n",
        "print(f\"Mansion at{m.address}, Price:{m.price}, Rooms:{m.number_of_rooms}\")"
      ],
      "metadata": {
        "colab": {
          "base_uri": "https://localhost:8080/"
        },
        "id": "_GKVaQ9xAMqf",
        "outputId": "dcfd5b38-2456-4d30-ef82-b817eca506c0"
      },
      "execution_count": 31,
      "outputs": [
        {
          "output_type": "stream",
          "name": "stdout",
          "text": [
            "Mansion at123 Main st, Price:10000000, Rooms:10\n"
          ]
        }
      ]
    }
  ]
}